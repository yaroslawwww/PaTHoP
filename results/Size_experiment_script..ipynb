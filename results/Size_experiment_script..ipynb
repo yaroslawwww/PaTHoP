{
 "cells": [
  {
   "cell_type": "code",
   "execution_count": 1,
   "id": "70871c36",
   "metadata": {},
   "outputs": [
    {
     "ename": "ModuleNotFoundError",
     "evalue": "No module named 'pandas'",
     "output_type": "error",
     "traceback": [
      "\u001b[0;31m---------------------------------------------------------------------------\u001b[0m",
      "\u001b[0;31mModuleNotFoundError\u001b[0m                       Traceback (most recent call last)",
      "Cell \u001b[0;32mIn[1], line 1\u001b[0m\n\u001b[0;32m----> 1\u001b[0m \u001b[38;5;28;01mimport\u001b[39;00m \u001b[38;5;21;01mpandas\u001b[39;00m \u001b[38;5;28;01mas\u001b[39;00m \u001b[38;5;21;01mpd\u001b[39;00m\n\u001b[1;32m      2\u001b[0m \u001b[38;5;28;01mimport\u001b[39;00m \u001b[38;5;21;01mmatplotlib\u001b[39;00m\u001b[38;5;21;01m.\u001b[39;00m\u001b[38;5;21;01mpyplot\u001b[39;00m \u001b[38;5;28;01mas\u001b[39;00m \u001b[38;5;21;01mplt\u001b[39;00m\n\u001b[1;32m      5\u001b[0m \u001b[38;5;66;03m# Создание DataFrame\u001b[39;00m\n",
      "\u001b[0;31mModuleNotFoundError\u001b[0m: No module named 'pandas'"
     ]
    }
   ],
   "source": [
    "\n",
    "import pandas as pd\n",
    "import matplotlib.pyplot as plt\n",
    "\n",
    "\n",
    "# Создание DataFrame\n",
    "df = pd.read_csv('', header=None)\n",
    "df = df[[1, 3, 4, 5, 6]]  # Выбор столбцов 2,4,5,6,7 (индексы 1,3,4,5,6)\n",
    "df.columns = ['col2', 'col4', 'col5', 'col6', 'col7']\n",
    "\n",
    "# Разделение данных\n",
    "group1 = df[df['col7'] == 1.0]\n",
    "group2 = df[df['col7'] == 0.5]\n",
    "\n",
    "# Построение графиков\n",
    "plt.figure(figsize=(15, 10))\n",
    "\n",
    "# График для col4\n",
    "plt.subplot(3, 1, 1)\n",
    "plt.scatter(group1['col2'], group1['col4'], color='blue', label='col7=1.0', alpha=0.7)\n",
    "plt.scatter(group2['col2'], group2['col4'], color='red', label='col7=0.5', alpha=0.7)\n",
    "plt.title('Зависимость col4 от col2')\n",
    "plt.xlabel('col2')\n",
    "plt.ylabel('col4')\n",
    "plt.legend()\n",
    "\n",
    "# График для col5\n",
    "plt.subplot(3, 1, 2)\n",
    "plt.scatter(group1['col2'], group1['col5'], color='blue', alpha=0.7)\n",
    "plt.scatter(group2['col2'], group2['col5'], color='red', alpha=0.7)\n",
    "plt.title('Зависимость col5 от col2')\n",
    "plt.xlabel('col2')\n",
    "plt.ylabel('col5')\n",
    "\n",
    "# График для col6\n",
    "plt.subplot(3, 1, 3)\n",
    "plt.scatter(group1['col2'], group1['col6'], color='blue', alpha=0.7)\n",
    "plt.scatter(group2['col2'], group2['col6'], color='red', alpha=0.7)\n",
    "plt.title('Зависимость col6 от col2')\n",
    "plt.xlabel('col2')\n",
    "plt.ylabel('col6')\n",
    "\n",
    "plt.tight_layout()\n",
    "plt.show()"
   ]
  },
  {
   "cell_type": "code",
   "execution_count": null,
   "id": "1faf2473",
   "metadata": {},
   "outputs": [],
   "source": []
  }
 ],
 "metadata": {
  "kernelspec": {
   "display_name": "Python 3 (ipykernel)",
   "language": "python",
   "name": "python3"
  },
  "language_info": {
   "codemirror_mode": {
    "name": "ipython",
    "version": 3
   },
   "file_extension": ".py",
   "mimetype": "text/x-python",
   "name": "python",
   "nbconvert_exporter": "python",
   "pygments_lexer": "ipython3",
   "version": "3.12.3"
  }
 },
 "nbformat": 4,
 "nbformat_minor": 5
}
