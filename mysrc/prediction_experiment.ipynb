{
 "cells": [
  {
   "cell_type": "code",
   "id": "initial_id",
   "metadata": {
    "collapsed": true,
    "ExecuteTime": {
     "end_time": "2025-01-07T08:55:52.015569Z",
     "start_time": "2025-01-07T08:55:08.321039Z"
    }
   },
   "source": [
    "from Predictions import *\n",
    "import pandas as pd\n",
    "import numpy as np\n",
    "\n",
    "# df = pd.read_csv(\"Lorentz\", sep=\",\")\n",
    "# # print(df.head())\n",
    "# df = df[-30000::10]\n",
    "# xs = (df[\"High\"])\n",
    "# xs = np.array(xs)\n",
    "\n",
    "ts = TimeSeries(\"Lorentz\", size=10000)\n",
    "tsproc = TSProcessor(ts, template_length=5, max_template_spread=5, train_size=len(ts.values) - 200, val_size=100, test_size=100)\n",
    "tsproc.validation()\n",
    "print(tsproc.eps)\n",
    "fort, values = tsproc.pull(tsproc.eps)\n",
    "real_values = ts.values[-200:]\n",
    "pred_values = values[-200:]\n",
    "print(real_values)\n",
    "print(pred_values)\n",
    "# print(values[-110:])\n",
    "plt.grid()\n",
    "plt.plot(real_values, label='Истинные значения')\n",
    "plt.plot(range(pred_values.size), pred_values, c='orange')\n",
    "\n",
    "plt.xlabel('Шаги', fontsize=20)\n",
    "plt.xticks(range(0, 220, 10))\n",
    "plt.legend(fontsize=16)\n",
    "plt.show()\n"
   ],
   "outputs": [
    {
     "name": "stderr",
     "output_type": "stream",
     "text": [
      " 21%|██        | 21/100 [00:39<02:29,  1.90s/it]\n"
     ]
    },
    {
     "ename": "KeyboardInterrupt",
     "evalue": "",
     "output_type": "error",
     "traceback": [
      "\u001B[0;31m---------------------------------------------------------------------------\u001B[0m",
      "\u001B[0;31mKeyboardInterrupt\u001B[0m                         Traceback (most recent call last)",
      "Cell \u001B[0;32mIn[1], line 13\u001B[0m\n\u001B[1;32m     11\u001B[0m ts \u001B[38;5;241m=\u001B[39m TimeSeries(\u001B[38;5;124m\"\u001B[39m\u001B[38;5;124mLorentz\u001B[39m\u001B[38;5;124m\"\u001B[39m, size\u001B[38;5;241m=\u001B[39m\u001B[38;5;241m10000\u001B[39m)\n\u001B[1;32m     12\u001B[0m tsproc \u001B[38;5;241m=\u001B[39m TSProcessor(ts, template_length\u001B[38;5;241m=\u001B[39m\u001B[38;5;241m6\u001B[39m, max_template_spread\u001B[38;5;241m=\u001B[39m\u001B[38;5;241m5\u001B[39m, train_size\u001B[38;5;241m=\u001B[39m\u001B[38;5;28mlen\u001B[39m(ts\u001B[38;5;241m.\u001B[39mvalues) \u001B[38;5;241m-\u001B[39m \u001B[38;5;241m200\u001B[39m, val_size\u001B[38;5;241m=\u001B[39m\u001B[38;5;241m100\u001B[39m, test_size\u001B[38;5;241m=\u001B[39m\u001B[38;5;241m100\u001B[39m)\n\u001B[0;32m---> 13\u001B[0m tsproc\u001B[38;5;241m.\u001B[39mvalidation()\n\u001B[1;32m     14\u001B[0m \u001B[38;5;28mprint\u001B[39m(tsproc\u001B[38;5;241m.\u001B[39meps)\n\u001B[1;32m     15\u001B[0m fort, values \u001B[38;5;241m=\u001B[39m tsproc\u001B[38;5;241m.\u001B[39mpull(tsproc\u001B[38;5;241m.\u001B[39meps)\n",
      "File \u001B[0;32m/media/yarik/NewDisk/git-rep/Prediction_after_the_horizont_of_predictability/mysrc/Predictions.py:58\u001B[0m, in \u001B[0;36mTSProcessor.validation\u001B[0;34m(self)\u001B[0m\n\u001B[1;32m     56\u001B[0m \u001B[38;5;28;01mfor\u001B[39;00m step \u001B[38;5;129;01min\u001B[39;00m  tqdm(\u001B[38;5;28mrange\u001B[39m(steps)):\n\u001B[1;32m     57\u001B[0m     test_vectors \u001B[38;5;241m=\u001B[39m values[:size_of_series \u001B[38;5;241m+\u001B[39m step][observation_indexes]\n\u001B[0;32m---> 58\u001B[0m     distance_matrix \u001B[38;5;241m=\u001B[39m calc_distance_matrix(test_vectors, train_vectors, steps, y_dim)\n\u001B[1;32m     59\u001B[0m     points \u001B[38;5;241m=\u001B[39m train_vectors[distance_matrix \u001B[38;5;241m<\u001B[39m eps][:, \u001B[38;5;241m-\u001B[39m\u001B[38;5;241m1\u001B[39m]\n\u001B[1;32m     60\u001B[0m     average_points_size \u001B[38;5;241m+\u001B[39m\u001B[38;5;241m=\u001B[39m points\u001B[38;5;241m.\u001B[39msize\n",
      "File \u001B[0;32m/media/yarik/NewDisk/git-rep/Prediction_after_the_horizont_of_predictability/mysrc/Predictions.py:23\u001B[0m, in \u001B[0;36mcalc_distance_matrix\u001B[0;34m(test_vectors, train_vectors, steps, y_dim)\u001B[0m\n\u001B[1;32m     21\u001B[0m distance_matrix \u001B[38;5;241m=\u001B[39m np\u001B[38;5;241m.\u001B[39mzeros(shape)\n\u001B[1;32m     22\u001B[0m \u001B[38;5;28;01mfor\u001B[39;00m i \u001B[38;5;129;01min\u001B[39;00m \u001B[38;5;28mrange\u001B[39m(test_vectors\u001B[38;5;241m.\u001B[39mshape[\u001B[38;5;241m1\u001B[39m]):\n\u001B[0;32m---> 23\u001B[0m     distance_matrix \u001B[38;5;241m+\u001B[39m\u001B[38;5;241m=\u001B[39m (train_vectors[:, :, i] \u001B[38;5;241m-\u001B[39m np\u001B[38;5;241m.\u001B[39mrepeat(test_vectors[:, i], y_dim \u001B[38;5;241m+\u001B[39m steps)\u001B[38;5;241m.\u001B[39mreshape(\u001B[38;5;241m-\u001B[39m\u001B[38;5;241m1\u001B[39m,\n\u001B[1;32m     24\u001B[0m                                                                                                       y_dim \u001B[38;5;241m+\u001B[39m steps)) \u001B[38;5;241m*\u001B[39m\u001B[38;5;241m*\u001B[39m \u001B[38;5;241m2\u001B[39m\n\u001B[1;32m     25\u001B[0m distance_matrix \u001B[38;5;241m*\u001B[39m\u001B[38;5;241m*\u001B[39m\u001B[38;5;241m=\u001B[39m \u001B[38;5;241m0.5\u001B[39m\n\u001B[1;32m     26\u001B[0m \u001B[38;5;28;01mreturn\u001B[39;00m distance_matrix\n",
      "File \u001B[0;32m~/anaconda3/lib/python3.12/site-packages/numpy/core/fromnumeric.py:466\u001B[0m, in \u001B[0;36mrepeat\u001B[0;34m(a, repeats, axis)\u001B[0m\n\u001B[1;32m    423\u001B[0m \u001B[38;5;129m@array_function_dispatch\u001B[39m(_repeat_dispatcher)\n\u001B[1;32m    424\u001B[0m \u001B[38;5;28;01mdef\u001B[39;00m \u001B[38;5;21mrepeat\u001B[39m(a, repeats, axis\u001B[38;5;241m=\u001B[39m\u001B[38;5;28;01mNone\u001B[39;00m):\n\u001B[1;32m    425\u001B[0m \u001B[38;5;250m    \u001B[39m\u001B[38;5;124;03m\"\"\"\u001B[39;00m\n\u001B[1;32m    426\u001B[0m \u001B[38;5;124;03m    Repeat each element of an array after themselves\u001B[39;00m\n\u001B[1;32m    427\u001B[0m \n\u001B[0;32m   (...)\u001B[0m\n\u001B[1;32m    464\u001B[0m \n\u001B[1;32m    465\u001B[0m \u001B[38;5;124;03m    \"\"\"\u001B[39;00m\n\u001B[0;32m--> 466\u001B[0m     \u001B[38;5;28;01mreturn\u001B[39;00m _wrapfunc(a, \u001B[38;5;124m'\u001B[39m\u001B[38;5;124mrepeat\u001B[39m\u001B[38;5;124m'\u001B[39m, repeats, axis\u001B[38;5;241m=\u001B[39maxis)\n",
      "File \u001B[0;32m~/anaconda3/lib/python3.12/site-packages/numpy/core/fromnumeric.py:59\u001B[0m, in \u001B[0;36m_wrapfunc\u001B[0;34m(obj, method, *args, **kwds)\u001B[0m\n\u001B[1;32m     56\u001B[0m     \u001B[38;5;28;01mreturn\u001B[39;00m _wrapit(obj, method, \u001B[38;5;241m*\u001B[39margs, \u001B[38;5;241m*\u001B[39m\u001B[38;5;241m*\u001B[39mkwds)\n\u001B[1;32m     58\u001B[0m \u001B[38;5;28;01mtry\u001B[39;00m:\n\u001B[0;32m---> 59\u001B[0m     \u001B[38;5;28;01mreturn\u001B[39;00m bound(\u001B[38;5;241m*\u001B[39margs, \u001B[38;5;241m*\u001B[39m\u001B[38;5;241m*\u001B[39mkwds)\n\u001B[1;32m     60\u001B[0m \u001B[38;5;28;01mexcept\u001B[39;00m \u001B[38;5;167;01mTypeError\u001B[39;00m:\n\u001B[1;32m     61\u001B[0m     \u001B[38;5;66;03m# A TypeError occurs if the object does have such a method in its\u001B[39;00m\n\u001B[1;32m     62\u001B[0m     \u001B[38;5;66;03m# class, but its signature is not identical to that of NumPy's. This\u001B[39;00m\n\u001B[0;32m   (...)\u001B[0m\n\u001B[1;32m     66\u001B[0m     \u001B[38;5;66;03m# Call _wrapit from within the except clause to ensure a potential\u001B[39;00m\n\u001B[1;32m     67\u001B[0m     \u001B[38;5;66;03m# exception has a traceback chain.\u001B[39;00m\n\u001B[1;32m     68\u001B[0m     \u001B[38;5;28;01mreturn\u001B[39;00m _wrapit(obj, method, \u001B[38;5;241m*\u001B[39margs, \u001B[38;5;241m*\u001B[39m\u001B[38;5;241m*\u001B[39mkwds)\n",
      "\u001B[0;31mKeyboardInterrupt\u001B[0m: "
     ]
    }
   ],
   "execution_count": 1
  },
  {
   "metadata": {
    "ExecuteTime": {
     "end_time": "2025-01-06T12:01:38.613928254Z",
     "start_time": "2025-01-02T23:27:49.135651Z"
    }
   },
   "cell_type": "code",
   "source": "",
   "id": "d78e9b22c5573719",
   "outputs": [],
   "execution_count": null
  },
  {
   "metadata": {
    "ExecuteTime": {
     "end_time": "2025-01-06T12:01:38.622109917Z",
     "start_time": "2025-01-02T16:26:14.497863Z"
    }
   },
   "cell_type": "code",
   "source": "",
   "id": "ddb218b3d6e24ea7",
   "outputs": [],
   "execution_count": null
  },
  {
   "metadata": {},
   "cell_type": "code",
   "outputs": [],
   "execution_count": null,
   "source": "",
   "id": "4575db9d2970718e"
  }
 ],
 "metadata": {
  "kernelspec": {
   "display_name": "Python 3",
   "language": "python",
   "name": "python3"
  },
  "language_info": {
   "codemirror_mode": {
    "name": "ipython",
    "version": 2
   },
   "file_extension": ".py",
   "mimetype": "text/x-python",
   "name": "python",
   "nbconvert_exporter": "python",
   "pygments_lexer": "ipython2",
   "version": "2.7.6"
  }
 },
 "nbformat": 4,
 "nbformat_minor": 5
}
